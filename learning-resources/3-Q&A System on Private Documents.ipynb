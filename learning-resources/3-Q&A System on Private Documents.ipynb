{
 "cells": [
  {
   "cell_type": "markdown",
   "id": "cf2c54a6",
   "metadata": {},
   "source": [
    "### Question - Answering system on private documents using OPL (Open AI, Pinecone, Langchain)\n",
    "<img src=\"./images/tech-stack.png\" />"
   ]
  },
  {
   "cell_type": "markdown",
   "id": "c24f35cb",
   "metadata": {},
   "source": [
    "**Limitations of GPT model***\n",
    "1. Only answer on data they've been trained on.\n",
    "\n",
    "Then how can LLMs learn new knowledge?\n",
    "<img src='./images/hows.png' />\n",
    "\n",
    "Approach#1 in the screenshot (fine-tuning training set) can be very time consuming and expensive. It also needs long term memomry which is not necessary.\n",
    "\n",
    "Approach#2 is good way to build shorter memory for the model. This is the recommended approach since it uses model inputs with embedded-based search. (Like we did [here](./Vector-Database.ipynb#Splitting-&-Embedding-text-using-LangChain))\n"
   ]
  },
  {
   "cell_type": "markdown",
   "id": "88ea5753",
   "metadata": {},
   "source": [
    "<h3><span style=\"color:red\">*Question-Answering Pipeline</span></h3>\n",
    "\n",
    "**Step 1: Prepare Document**\n",
    "<img src='./images/qa-pipeline-1.png'/>\n",
    "\n",
    "\n",
    "After the above step is done (that we have prepared the document) then\n",
    "we do:<br/><br />\n",
    "**Step 2: Search**\n",
    "<img src='./images/qa-pipeline-2.png'/>\n",
    "<br/><br />\n",
    "**Step 3: Ask**\n",
    "<img src='./images/qa-pipeline-3.png'/>\n"
   ]
  },
  {
   "cell_type": "markdown",
   "id": "cfaf32bf",
   "metadata": {},
   "source": [
    "### Project Overview\n",
    "<img src='./images/project-overview.png'/>"
   ]
  }
 ],
 "metadata": {
  "kernelspec": {
   "display_name": "Python 3 (ipykernel)",
   "language": "python",
   "name": "python3"
  },
  "language_info": {
   "codemirror_mode": {
    "name": "ipython",
    "version": 3
   },
   "file_extension": ".py",
   "mimetype": "text/x-python",
   "name": "python",
   "nbconvert_exporter": "python",
   "pygments_lexer": "ipython3",
   "version": "3.10.12"
  }
 },
 "nbformat": 4,
 "nbformat_minor": 5
}
