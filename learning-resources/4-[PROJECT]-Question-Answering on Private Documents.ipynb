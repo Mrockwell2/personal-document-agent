{
 "cells": [
  {
   "cell_type": "code",
   "execution_count": 2,
   "id": "ea583fe6",
   "metadata": {},
   "outputs": [
    {
     "data": {
      "text/plain": [
       "True"
      ]
     },
     "execution_count": 2,
     "metadata": {},
     "output_type": "execute_result"
    }
   ],
   "source": [
    "import os\n",
    "from dotenv import load_dotenv, find_dotenv\n",
    "load_dotenv(find_dotenv(),override=True)"
   ]
  },
  {
   "cell_type": "code",
   "execution_count": 5,
   "id": "37960b3f",
   "metadata": {},
   "outputs": [
    {
     "name": "stdout",
     "output_type": "stream",
     "text": [
      "Note: you may need to restart the kernel to use updated packages.\n"
     ]
    }
   ],
   "source": [
    "pip install pypdf -q"
   ]
  },
  {
   "cell_type": "code",
   "execution_count": 6,
   "id": "04129a53",
   "metadata": {},
   "outputs": [
    {
     "name": "stdout",
     "output_type": "stream",
     "text": [
      "Note: you may need to restart the kernel to use updated packages.\n"
     ]
    }
   ],
   "source": [
    "pip install docx2txt -q"
   ]
  },
  {
   "cell_type": "code",
   "execution_count": 7,
   "id": "6efa5352",
   "metadata": {},
   "outputs": [],
   "source": [
    "# NOTE: Adding import in a function can be beneficial from\n",
    "# refactoring perspective\n",
    "def load_document(file):\n",
    "    import os\n",
    "    name, extension = os.path.splitext(file)\n",
    "    \n",
    "    print(f'Loading {file}...')\n",
    "    if extension == \".pdf\":\n",
    "        from langchain.document_loaders import PyPDFLoader\n",
    "        loader = PyPDFLoader(file)\n",
    "    elif extension == \".docx\":\n",
    "        from langchain.document_loaders import Docx2txtLoader\n",
    "        loader = Docx2txtLoader(file)\n",
    "    else:\n",
    "        print(f'Document extension {extension} is not supported.')\n",
    "        \n",
    "    data = loader.load()\n",
    "    return data"
   ]
  },
  {
   "cell_type": "markdown",
   "id": "11e618b1",
   "metadata": {},
   "source": [
    "### Running Code"
   ]
  },
  {
   "cell_type": "code",
   "execution_count": 36,
   "id": "7dc54e4e",
   "metadata": {},
   "outputs": [
    {
     "name": "stdout",
     "output_type": "stream",
     "text": [
      "Loading ./documents/us-constitution.pdf...\n",
      "You have 19 pages in your data.\n"
     ]
    }
   ],
   "source": [
    "data = load_document('./documents/us-constitution.pdf')\n",
    "# print(data[1].page_content)\n",
    "# print(data[10].metadata)\n",
    "print(f'You have {len(data)} pages in your data.')"
   ]
  },
  {
   "cell_type": "code",
   "execution_count": 11,
   "id": "cf91d7fb",
   "metadata": {},
   "outputs": [
    {
     "name": "stdout",
     "output_type": "stream",
     "text": [
      "Loading ./documents/word-data.docx...\n"
     ]
    }
   ],
   "source": [
    "data = load_document('./documents/word-data.docx')\n",
    "# print(data[1].page_content)\n",
    "# print(data[10].metadata)\n",
    "# print(f'You have {len(data)} pages in your data.')\n",
    "print(data[0].page_content)"
   ]
  },
  {
   "cell_type": "markdown",
   "id": "9238b07e",
   "metadata": {},
   "source": [
    "### Get data from a website"
   ]
  },
  {
   "cell_type": "code",
   "execution_count": 15,
   "id": "91446e41",
   "metadata": {},
   "outputs": [],
   "source": [
    "pip install wikipedia"
   ]
  },
  {
   "cell_type": "code",
   "execution_count": 16,
   "id": "fcb50b76",
   "metadata": {},
   "outputs": [],
   "source": [
    "def load_from_wikipedia(query,lang='en',load_max_docs=2):\n",
    "    from langchain.document_loaders import WikipediaLoader\n",
    "    loader = WikipediaLoader(query=query\n",
    "                             ,lang=lang,\n",
    "                             load_max_docs=load_max_docs)\n",
    "    data = loader.load()\n",
    "    return data"
   ]
  },
  {
   "cell_type": "code",
   "execution_count": 17,
   "id": "f3dbf2e7",
   "metadata": {},
   "outputs": [
    {
     "name": "stdout",
     "output_type": "stream",
     "text": [
      "1\n"
     ]
    }
   ],
   "source": [
    "data = load_from_wikipedia('Google BARD','en',1)\n",
    "#print(data[0].page_content)\n",
    "print(1)"
   ]
  },
  {
   "cell_type": "code",
   "execution_count": 18,
   "id": "e0d3eff3",
   "metadata": {},
   "outputs": [],
   "source": [
    "def chunk_data(data,chunk_size=256,):\n",
    "    from langchain.text_splitter import RecursiveCharacterTextSplitter\n",
    "    text_splitter = RecursiveCharacterTextSplitter(chunk_size=chunk_size,\n",
    "                                                   chunk_overlap=0)\n",
    "    chunks = text_splitter.split_documents(data)\n",
    "    return chunks\n",
    "    "
   ]
  },
  {
   "cell_type": "code",
   "execution_count": 37,
   "id": "4c695dde",
   "metadata": {},
   "outputs": [
    {
     "name": "stdout",
     "output_type": "stream",
     "text": [
      "247\n",
      "the general  Welfare, and secure the Blessings of Liberty to \n",
      "ourselves  and our Posterity,  do ordain  and establish  this \n",
      "Constitution for the United States of America  \n",
      " \n",
      " \n",
      "Article.   I. \n",
      "SECTION.  1\n"
     ]
    }
   ],
   "source": [
    "chunks = chunk_data(data)\n",
    "print(len(chunks))\n",
    "print(chunks[2].page_content)"
   ]
  },
  {
   "cell_type": "markdown",
   "id": "0df294db",
   "metadata": {},
   "source": [
    "### Calculating the Cost"
   ]
  },
  {
   "cell_type": "code",
   "execution_count": 38,
   "id": "cec91de5",
   "metadata": {},
   "outputs": [
    {
     "name": "stdout",
     "output_type": "stream",
     "text": [
      "Total Tokens: 12912\n",
      "Embedding Cost in USD: 0.005165\n"
     ]
    }
   ],
   "source": [
    "def print_embedding_cost(texts):\n",
    "    import tiktoken\n",
    "    enc = tiktoken.encoding_for_model('text-embedding-ada-002')\n",
    "    total_tokens = sum([len(enc.encode(page.page_content)) for page in texts])\n",
    "    print(f'Total Tokens: {total_tokens}')\n",
    "    print(f'Embedding Cost in USD: {total_tokens/1000 * 0.0004:.6f}')\n",
    "\n",
    "print_embedding_cost(chunks)"
   ]
  },
  {
   "cell_type": "markdown",
   "id": "0c0b8f9e",
   "metadata": {},
   "source": [
    "### Embedding and Uploading to a Vector Database (Pinecone)"
   ]
  },
  {
   "cell_type": "code",
   "execution_count": 39,
   "id": "4f66f747",
   "metadata": {},
   "outputs": [],
   "source": [
    "def insert_of_fetch_embeddings(index_name):\n",
    "    # NOTE: There are 2 pinecone imports 1 library and 1 is class\n",
    "    # 1) pinecone (p lower case and imported directly) (library)\n",
    "    # 2) Pinecone (P upper case imported from langchain vectorstores)\n",
    "    import pinecone\n",
    "    from langchain.vectorstores import Pinecone\n",
    "    from langchain.embeddings.openai import OpenAIEmbeddings\n",
    "    \n",
    "    # NO need to pass apikey, it automaically grabs it after your load env\n",
    "    embeddings = OpenAIEmbeddings()\n",
    "    \n",
    "    pinecone.init(api_key=os.environ.get('PINECONE_API_KEY'),\n",
    "                 environment=os.environ.get('PINECONE_ENV'))\n",
    "    \n",
    "    if index_name in pinecone.list_indexes():\n",
    "        print(f'Index {index_name} already exists. Loadings Embeddings...',\n",
    "             end='')\n",
    "        vector_store = Pinecone.from_existing_index(index_name,embeddings)\n",
    "        print('Done')\n",
    "    else:\n",
    "        # Go to https://docs.pinecone.io/reference/create_index/ for\n",
    "        # documentation of create_index method\n",
    "        print(f'Creating Index {index_name} and embeddings ...',end='')\n",
    "        \n",
    "        pinecone.create_index(index_name,dimension=1536,metric='cosine')\n",
    "        \n",
    "        vector_store = Pinecone.from_documents(chunks\n",
    "                                               ,embeddings\n",
    "                                               ,index_name=index_name)\n",
    "        print('Done')\n",
    "    \n",
    "    return vector_store"
   ]
  },
  {
   "cell_type": "code",
   "execution_count": 40,
   "id": "38be3f3c",
   "metadata": {},
   "outputs": [],
   "source": [
    "def delete_pinecone_index(index_name='all'):\n",
    "    import pinecone\n",
    "    pinecone.init(api_key=os.environ.get('PINECONE_API_KEY'),\n",
    "             environment=os.environ.get('PINECONE_ENV'))\n",
    "    if(index_name=='all'):\n",
    "        indexes = pinecone.list_indexes()\n",
    "        print('Deleting all indexes ...')\n",
    "        for index in indexes:\n",
    "            pinecone.delete_index(index)\n",
    "    else:\n",
    "        print(f'Deleting index {index_name} ...')\n",
    "        pinecone.delete_index(index_name)\n",
    "    \n",
    "    print('Done')\n"
   ]
  },
  {
   "cell_type": "code",
   "execution_count": 41,
   "id": "ca9b1821",
   "metadata": {},
   "outputs": [
    {
     "name": "stdout",
     "output_type": "stream",
     "text": [
      "Deleting all indexes ...\n",
      "Done\n"
     ]
    }
   ],
   "source": [
    "delete_pinecone_index()"
   ]
  },
  {
   "cell_type": "code",
   "execution_count": 42,
   "id": "9b7291df",
   "metadata": {},
   "outputs": [
    {
     "name": "stdout",
     "output_type": "stream",
     "text": [
      "Creating Index askadocument and embeddings ...Done\n"
     ]
    }
   ],
   "source": [
    "index_name = 'askadocument'\n",
    "vector_store = insert_of_fetch_embeddings(index_name)"
   ]
  },
  {
   "cell_type": "markdown",
   "id": "8d2a911e",
   "metadata": {},
   "source": [
    "### Asking & Getting Answers"
   ]
  },
  {
   "cell_type": "code",
   "execution_count": 44,
   "id": "af23fa1f",
   "metadata": {},
   "outputs": [],
   "source": [
    "def ask_and_get_answer(vector_store,q):\n",
    "    from langchain.chains import RetrievalQA\n",
    "    from langchain.chat_models import ChatOpenAI\n",
    "\n",
    "    llm = ChatOpenAI(model='gpt-3.5-turbo',temperature=1)\n",
    "\n",
    "    retriever = vector_store.as_retriever(search_type='similarity',search_kwargs={'k':3})\n",
    "\n",
    "    chain = RetrievalQA.from_chain_type(llm=llm,chain_type='stuff',retriever=retriever)\n",
    "    \n",
    "    answer = chain.run(q)\n",
    "    \n",
    "    return answer\n"
   ]
  },
  {
   "cell_type": "code",
   "execution_count": 46,
   "id": "dcbac9e1",
   "metadata": {},
   "outputs": [
    {
     "name": "stdout",
     "output_type": "stream",
     "text": [
      "The content is about the National Constitution Center in Philadelphia, PA and its mission to promote awareness and understanding of the United States Constitution, its history, and its relevance to people's daily lives.\n"
     ]
    }
   ],
   "source": [
    "q='What is the content about?'\n",
    "answer = ask_and_get_answer(vector_store,q)\n",
    "print(answer)"
   ]
  },
  {
   "cell_type": "code",
   "execution_count": 48,
   "id": "f822ce79",
   "metadata": {},
   "outputs": [
    {
     "name": "stdout",
     "output_type": "stream",
     "text": [
      "This text is about the United States.\n"
     ]
    }
   ],
   "source": [
    "q='what country is this about?'\n",
    "answer = ask_and_get_answer(vector_store,q)\n",
    "print(answer)"
   ]
  },
  {
   "cell_type": "code",
   "execution_count": 50,
   "id": "51c77ced",
   "metadata": {},
   "outputs": [
    {
     "name": "stdout",
     "output_type": "stream",
     "text": [
      "Write Quit or Exit to quit.\n",
      "Question #1: Q1: What is bill or rights? Q2: How does this document address presidential succession? Answer both questions\n",
      "\n",
      "Answer:Q1: The Bill of Rights refers to the first ten amendments to the Constitution of the United States. These amendments were ratified by the states to ensure certain fundamental rights and freedoms of the people, such as freedom of speech, religion, and the right to bear arms.\n",
      "\n",
      "Q2: The document does not directly address presidential succession. It mentions the eligibility criteria for the Office of President, stating that only natural born citizens or citizens at the time of the Constitution's adoption can hold the office. However, the specific process of presidential succession is outlined in the Presidential Succession Act of 1947, which establishes the order of succession in case the President is unable to perform their duties.\n",
      "\n",
      " ------------------------------------------------------------ \n",
      "\n",
      "Question #2: Can explain this document in 3 to 5 sentences in Marathi language?\n",
      "\n",
      "Answer:म्हणजे ह्या कागदामध्ये काय आहे ह्याचे 3 ते 5 मराठी वाक्यांत समजावे शकता का?\n",
      "\n",
      " ------------------------------------------------------------ \n",
      "\n",
      "Question #3: Can you explain the document in Marathi?\n",
      "\n",
      "Answer:I'm sorry, I can only provide assistance in English.\n",
      "\n",
      " ------------------------------------------------------------ \n",
      "\n",
      "Question #4: Can you explain this document in 3 to 5 sentences and then translate it into Marathi\n",
      "\n",
      "Answer:This document is a part of the United States Constitution, which outlines the powers granted to the government. It states that the government has the authority to declare war, issue Letters of Marque and Reprisal (allowing private individuals or groups to engage in warfare), and establish rules for capturing on land and water. It also grants the government the power to raise and support armies, with the condition that appropriations for this purpose cannot be for more than two years. To further ensure public confidence in the government, additional clauses may be added through a proposal ratified by three-fourths of the state legislatures or conventions. \n",
      "\n",
      "Translation in Marathi:\n",
      "हा कागदाचा भाग अमेरिकेचे संविधानाचा एक घटक आहे, ज्यात सरकारच्या प्रमाणात दिलेली शक्तियां नमूद केली आहेत. हा दावा करतो की सरकारला युद्ध घोषित करण्याची शक्ती आहे, मार्क आणि तिकडे चे पत्रे जाहीर करण्याची परवानगी मिळेल आणि जमिनी आणि पाण्यावर पकड करण्यासाठी नियम बनवण्याची शक्ती आहे. ती सरकारला सैन्य तयार करणे आणि समर्थन करणे प्राधान्य देते, पण हा विनंती करतो की हा वेतन दोन वर्षांपेक्षा जास्त वेळ असणार नाही. सार्वजनिक विश्वासाचा वाढवणेसाठी, राज्यांच्या विधानसभांना किंवा त्यांच्या सभेशी त्रेगुण विलिखित केलेल्या सुधारणा असे म्हणता येते की ती संविधान आंतरसंघाच्या एक तिसर्या-चौरस भागीच्या विधायिकांनी मंजूर केली गेली असेल, किंवा त्यांच्याच्या सभांच्या ३ त्रेगुणांनी.\n",
      "\n",
      " ------------------------------------------------------------ \n",
      "\n",
      "Question #5: quit\n",
      "Thanks for stopping by\n"
     ]
    }
   ],
   "source": [
    "import time\n",
    "i = 1\n",
    "print('Write Quit or Exit to quit.')\n",
    "while True:\n",
    "    q = input(f'Question #{i}: ')\n",
    "    i +=1\n",
    "    if q.lower() in ['quit','exit']:\n",
    "        print('Thanks for stopping by')\n",
    "        time.sleep(2)\n",
    "        break\n",
    "    \n",
    "    answer = ask_and_get_answer(vector_store,q)\n",
    "    print(f'\\nAnswer:{answer}')\n",
    "    print(f'\\n {\"-\" *60} \\n')\n",
    "    "
   ]
  }
 ],
 "metadata": {
  "kernelspec": {
   "display_name": "Python 3 (ipykernel)",
   "language": "python",
   "name": "python3"
  },
  "language_info": {
   "codemirror_mode": {
    "name": "ipython",
    "version": 3
   },
   "file_extension": ".py",
   "mimetype": "text/x-python",
   "name": "python",
   "nbconvert_exporter": "python",
   "pygments_lexer": "ipython3",
   "version": "3.11.4"
  }
 },
 "nbformat": 4,
 "nbformat_minor": 5
}
